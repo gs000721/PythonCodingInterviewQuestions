{
  "nbformat": 4,
  "nbformat_minor": 0,
  "metadata": {
    "colab": {
      "provenance": []
    },
    "kernelspec": {
      "name": "python3",
      "display_name": "Python 3"
    },
    "language_info": {
      "name": "python"
    }
  },
  "cells": [
    {
      "cell_type": "markdown",
      "source": [
        "\n",
        "# sWAP cASE\n",
        "\n",
        "You are given a string and your task is to swap cases. In other words, convert all lowercase letters to uppercase letters and vice versa.\n",
        "\n",
        "**For Example:**\n",
        "\n",
        "\n",
        "\n",
        "1.   Www.HackerRank.com → wWW.hACKERrANK.COM\n",
        "2.   Pythonist 2 → pYTHONIST 2\n",
        "\n",
        "\n",
        "  "
      ],
      "metadata": {
        "id": "7-lFhO7yT9VL"
      }
    },
    {
      "cell_type": "code",
      "source": [
        "def swap_case(s):\n",
        "    \"\"\"\n",
        "    Swaps the case of letters in a string.\n",
        "\n",
        "    Args:\n",
        "        s (str): The input string.\n",
        "\n",
        "    Returns:\n",
        "        str: The string with swapped case.\n",
        "\n",
        "    \"\"\"\n",
        "    swapped_string = \"\"  # Initialize an empty string to store the swapped characters\n",
        "    for char in s:\n",
        "        if char.islower():\n",
        "            swapped_string += char.upper()  # If the character is lowercase, convert it to uppercase\n",
        "        elif char.isupper():\n",
        "            swapped_string += char.lower()  # If the character is uppercase, convert it to lowercase\n",
        "        else:\n",
        "            swapped_string += char  # If the character is neither lowercase nor uppercase, keep it unchanged\n",
        "    return swapped_string\n",
        "\n",
        "\n"
      ],
      "metadata": {
        "id": "U3DJJqaTT7P8"
      },
      "execution_count": 12,
      "outputs": []
    },
    {
      "cell_type": "code",
      "source": [
        "s = input(\"Enter a string: \")  # Prompt the user to enter a string\n",
        "result = swap_case(s)  # Call the swap_case function to swap the case of characters\n",
        "print(\"Swapped string:\", result)  # Print the swapped string"
      ],
      "metadata": {
        "colab": {
          "base_uri": "https://localhost:8080/"
        },
        "id": "6pHbxA4fU0-V",
        "outputId": "b0b099d5-ad7c-424e-b72b-ac1f03ef7487"
      },
      "execution_count": 13,
      "outputs": [
        {
          "output_type": "stream",
          "name": "stdout",
          "text": [
            "Enter a string: Geetha Subramanyam\n",
            "Swapped string: gEETHA sUBRAMANYAM\n"
          ]
        }
      ]
    },
    {
      "cell_type": "code",
      "source": [],
      "metadata": {
        "id": "yP8vLNMbVVPQ"
      },
      "execution_count": 13,
      "outputs": []
    }
  ]
}